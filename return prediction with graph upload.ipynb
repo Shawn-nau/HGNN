{
 "cells": [
  {
   "cell_type": "code",
   "execution_count": 141,
   "metadata": {},
   "outputs": [],
   "source": [
    "import torch\n",
    "import pandas as pd\n",
    "import numpy as np\n",
    "import torch.nn.functional as F\n",
    "from torch.nn import ReLU, Softmax, Sigmoid\n",
    "from tqdm import tqdm\n",
    "from torch_geometric.data import HeteroData\n",
    "from torch_geometric.nn import Linear, SAGEConv, Sequential, to_hetero\n",
    "from torch_geometric.loader import HGTLoader\n",
    "import torch_geometric.transforms as T\n"
   ]
  },
  {
   "cell_type": "code",
   "execution_count": 142,
   "metadata": {},
   "outputs": [],
   "source": [
    "#data\n",
    "data_DTYPES={\"deviceID\": \"category\",\"color\": \"category\",\"itemID\": \"category\",\"size\": \"category\",\"manufacturerID\": \"category\", \"paymentMethod\": \"category\"}\n",
    "data_train =pd.read_csv('./orders_train.txt',delimiter=';',parse_dates=['orderDate','deliveryDate'],dtype = data_DTYPES)\n",
    "data_test = pd.read_csv('./orders_class.txt',delimiter=';',parse_dates=['orderDate','deliveryDate'], dtype = data_DTYPES)\n",
    "data_real = pd.read_csv('./realclass.txt',delimiter=';',dtype = data_DTYPES)\n",
    "data_test = data_test.merge(data_real,on=['orderItemID'])"
   ]
  },
  {
   "cell_type": "code",
   "execution_count": 143,
   "metadata": {},
   "outputs": [],
   "source": [
    "\n",
    "data_test['test']=True\n",
    "data_train['test']=False"
   ]
  },
  {
   "cell_type": "code",
   "execution_count": 144,
   "metadata": {},
   "outputs": [],
   "source": [
    "customer_purchase_times = data_train[['customerID','orderDate']].drop_duplicates().groupby(['customerID'])['orderDate'].count()\n",
    "exsiting_customer = customer_purchase_times[customer_purchase_times>2].index.tolist()\n",
    "repeat_customer =  data_test['customerID'].isin(exsiting_customer)\n"
   ]
  },
  {
   "cell_type": "code",
   "execution_count": 146,
   "metadata": {},
   "outputs": [],
   "source": [
    "from sklearn.preprocessing import LabelEncoder\n",
    "size_le = LabelEncoder().fit(pd.concat([data_train,data_test],axis = 0)['size'])\n",
    "data_train['size'] =  size_le.transform(data_train['size'])\n",
    "data_test['size'] = size_le.transform(data_test['size'])\n",
    "\n",
    "color_le = LabelEncoder().fit(pd.concat([data_train,data_test],axis = 0)['color'])\n",
    "data_train['color'] =  color_le.transform(data_train['color'])\n",
    "data_test['color'] = color_le.transform(data_test['color'])\n",
    "\n",
    "data_train['orderID']= data_train['customerID'].astype(str) +'_'+ data_train['orderDate'].apply(lambda x: x.strftime('%Y%m%d'))\n",
    "data_test['orderID']= data_test['customerID'].astype(str) +'_'+ data_test['orderDate'].apply(lambda x: x.strftime('%Y%m%d'))\n",
    "\n",
    "order_le = LabelEncoder().fit(pd.concat([data_train,data_test],axis = 0)['orderID'])\n",
    "data_train['orderID'] =  order_le.transform(data_train['orderID'])\n",
    "data_test['orderID'] = order_le.transform(data_test['orderID'])\n",
    "\n",
    "data_train.rename(columns = {'itemID':'articleID'},inplace=True)\n",
    "data_test.rename(columns = {'itemID':'articleID'},inplace=True)\n"
   ]
  },
  {
   "cell_type": "code",
   "execution_count": 148,
   "metadata": {},
   "outputs": [],
   "source": [
    "state_le = LabelEncoder().fit(pd.concat([data_train,data_test],axis = 0)['state'])\n",
    "data_train['state'] =  state_le.transform(data_train['state'])\n",
    "data_test['state'] = state_le.transform(data_test['state'])"
   ]
  },
  {
   "cell_type": "code",
   "execution_count": 150,
   "metadata": {},
   "outputs": [],
   "source": [
    "salutation_le = LabelEncoder().fit(pd.concat([data_train,data_test],axis = 0)['salutation'])\n",
    "data_train['salutation'] =  salutation_le.transform(data_train['salutation'])\n",
    "data_test['salutation'] = salutation_le.transform(data_test['salutation'])"
   ]
  },
  {
   "cell_type": "code",
   "execution_count": 154,
   "metadata": {},
   "outputs": [],
   "source": [
    "def graph_build(df,valdata=False,data_train=None):\n",
    "    df = df.copy()\n",
    "    df['quantity']=1\n",
    "    df['value'] = df['quantity'] * df['price']\n",
    "    df['month']= df['orderDate'].dt.month/11\n",
    "    df['wday']= df['orderDate'].dt.day_of_week/6\n",
    "    df['order_size'] = df.groupby(['orderID'])['quantity'].transform('sum')/100\n",
    "    df['order_value'] = df.groupby(['orderID'])['value'].transform('sum')/5000\n",
    "    df['order_avg_value'] = df.groupby(['orderID'])['value'].transform('mean')/1000\n",
    "    \n",
    "    df['price'] = np.log1p(df['price'])\n",
    "    \n",
    "    data = HeteroData()\n",
    "    \n",
    "    if valdata:        \n",
    "        for col in ['customerID', 'orderID', 'articleID','color','size','manufacturerID','state']:\n",
    "            # Map IDs to consecutive integers:\n",
    "            inds = np.unique(data_train[[col]].values)\n",
    "            inds_dict = dict(zip(inds,range(len(inds))))\n",
    "            inds_test = np.unique(df.loc[df[col].map(inds_dict).isna(),col].values)\n",
    "            inds_test_dict = dict(zip(inds_test,range(len(inds),len(inds)+len(inds_test))))\n",
    "            inds_dict.update(inds_test_dict)\n",
    "            df[col] = df[col].map(inds_dict)\n",
    "            \n",
    "    \n",
    "    else: \n",
    "        for col in ['customerID', 'orderID', 'articleID','color','size','manufacturerID','state']:\n",
    "            # Map IDs to consecutive integers:\n",
    "            _,df[col] = np.unique(df[[col]].values, return_inverse=True)        \n",
    "\n",
    "\n",
    "    order_feat = df.groupby(['orderID'])[['wday','month','order_size','order_value','order_avg_value']].first()\n",
    "    \n",
    "    article_feat1 = df.groupby(['articleID'])['price'].mean()/10\n",
    "    article_feat2 = df.groupby(['articleID'])['manufacturerID'].first()\n",
    "    article_feat = pd.concat([article_feat1,article_feat2],axis=1)\n",
    "\n",
    "\n",
    "    for col in ['customerID', 'orderID', 'articleID']:\n",
    "        data[col].node_id = torch.from_numpy(np.unique(df[[col]].values))\n",
    "\n",
    "\n",
    "    data['orderID'].x =  torch.from_numpy(order_feat.values[:,1:]).to(torch.float)\n",
    "    data['articleID'].x =  torch.from_numpy(article_feat1.values).to(torch.float).unsqueeze(1)\n",
    "    data['articleID'].productGroup =  torch.from_numpy(article_feat2.values).to(torch.long)\n",
    "    data['customerID'].state =  torch.from_numpy(df.groupby(['customerID'])['state'].first().values).to(torch.long)\n",
    "    data['customerID'].salutation =  torch.from_numpy(df.groupby(['customerID'])['salutation'].first().values).to(torch.long)\n",
    "\n",
    "    col = torch.from_numpy(df.groupby(['customerID','orderID']).head(1)['orderID'].values)\n",
    "    row = torch.from_numpy(df.groupby(['customerID','orderID']).head(1)['customerID'].values)\n",
    "    data['customerID','make', 'orderID'].edge_index = torch.stack([row, col], dim=0)\n",
    "\n",
    "    col = torch.from_numpy(df['orderID'].values)\n",
    "    row = torch.from_numpy(df['articleID'].values)\n",
    "    data['articleID','in', 'orderID'].edge_index = torch.stack([row, col], dim=0)\n",
    "\n",
    "\n",
    "    data['articleID','in', 'orderID'].colorCode = torch.from_numpy(df[['color']].values).to(torch.long).squeeze()\n",
    "    data['articleID','in', 'orderID'].sizeCode = torch.from_numpy(df[['size']].values).to(torch.long).squeeze()\n",
    "        \n",
    "    data['articleID','in', 'orderID'].edge_label = torch.from_numpy((df['returnShipment']>0).values).to(torch.float)\n",
    "    data['articleID','in', 'orderID'].edge_attr = torch.from_numpy(df[['price']].values).to(torch.float)\n",
    "    data['articleID','in', 'orderID'].mask = torch.from_numpy(df['test'].values)\n",
    "\n",
    "    return data\n",
    "    "
   ]
  },
  {
   "cell_type": "code",
   "execution_count": 155,
   "metadata": {},
   "outputs": [],
   "source": [
    "data = graph_build(data_train)\n",
    "data_test = graph_build(df = pd.concat([data_train,data_test.loc[repeat_customer,]],axis = 0),valdata=True,data_train=data_train)"
   ]
  },
  {
   "cell_type": "code",
   "execution_count": 156,
   "metadata": {},
   "outputs": [
    {
     "data": {
      "text/plain": [
       "HeteroData(\n",
       "  \u001b[1mcustomerID\u001b[0m={\n",
       "    node_id=[59754],\n",
       "    state=[59754],\n",
       "    salutation=[59754]\n",
       "  },\n",
       "  \u001b[1morderID\u001b[0m={\n",
       "    node_id=[138866],\n",
       "    x=[138866, 4]\n",
       "  },\n",
       "  \u001b[1marticleID\u001b[0m={\n",
       "    node_id=[3007],\n",
       "    x=[3007, 1],\n",
       "    productGroup=[3007]\n",
       "  },\n",
       "  \u001b[1m(customerID, make, orderID)\u001b[0m={ edge_index=[2, 138866] },\n",
       "  \u001b[1m(articleID, in, orderID)\u001b[0m={\n",
       "    edge_index=[2, 481092],\n",
       "    colorCode=[481092],\n",
       "    sizeCode=[481092],\n",
       "    edge_label=[481092],\n",
       "    edge_attr=[481092, 1],\n",
       "    mask=[481092]\n",
       "  }\n",
       ")"
      ]
     },
     "execution_count": 156,
     "metadata": {},
     "output_type": "execute_result"
    }
   ],
   "source": [
    "data"
   ]
  },
  {
   "cell_type": "code",
   "execution_count": 157,
   "metadata": {},
   "outputs": [],
   "source": [
    "data = T.ToUndirected()(data)"
   ]
  },
  {
   "cell_type": "code",
   "execution_count": 158,
   "metadata": {},
   "outputs": [],
   "source": [
    "data_test = T.ToUndirected()(data_test)"
   ]
  },
  {
   "cell_type": "code",
   "execution_count": 159,
   "metadata": {},
   "outputs": [
    {
     "data": {
      "text/plain": [
       "HeteroData(\n",
       "  \u001b[1mcustomerID\u001b[0m={\n",
       "    node_id=[59754],\n",
       "    state=[59754],\n",
       "    salutation=[59754]\n",
       "  },\n",
       "  \u001b[1morderID\u001b[0m={\n",
       "    node_id=[138866],\n",
       "    x=[138866, 4]\n",
       "  },\n",
       "  \u001b[1marticleID\u001b[0m={\n",
       "    node_id=[3007],\n",
       "    x=[3007, 1],\n",
       "    productGroup=[3007]\n",
       "  },\n",
       "  \u001b[1m(customerID, make, orderID)\u001b[0m={ edge_index=[2, 138866] },\n",
       "  \u001b[1m(articleID, in, orderID)\u001b[0m={\n",
       "    edge_index=[2, 481092],\n",
       "    colorCode=[481092],\n",
       "    sizeCode=[481092],\n",
       "    edge_label=[481092],\n",
       "    edge_attr=[481092, 1],\n",
       "    mask=[481092]\n",
       "  },\n",
       "  \u001b[1m(orderID, rev_make, customerID)\u001b[0m={ edge_index=[2, 138866] },\n",
       "  \u001b[1m(orderID, rev_in, articleID)\u001b[0m={\n",
       "    edge_index=[2, 481092],\n",
       "    colorCode=[481092],\n",
       "    sizeCode=[481092],\n",
       "    edge_label=[481092],\n",
       "    edge_attr=[481092, 1],\n",
       "    mask=[481092]\n",
       "  }\n",
       ")"
      ]
     },
     "execution_count": 159,
     "metadata": {},
     "output_type": "execute_result"
    }
   ],
   "source": [
    "data"
   ]
  },
  {
   "cell_type": "code",
   "execution_count": 161,
   "metadata": {},
   "outputs": [],
   "source": [
    "loader = HGTLoader(\n",
    "    data,\n",
    "    # Sample 512 nodes per type and per iteration for 4 iterations\n",
    "    num_samples={key: [2048] * 6 for key in data.node_types},\n",
    "    # Use a batch size of 128 for sampling training nodes of type order\n",
    "    batch_size=2048,\n",
    "    input_nodes=('orderID', None),\n",
    ")\n",
    "\n"
   ]
  },
  {
   "cell_type": "code",
   "execution_count": 162,
   "metadata": {},
   "outputs": [],
   "source": [
    "num_productgroup = np.int64(data_test[\"articleID\"].productGroup.max().numpy()) + 1\n",
    "num_size = np.int64(data_test['articleID','in', 'orderID'].sizeCode.max().numpy()) +1\n",
    "num_color = np.int64(data_test['articleID','in', 'orderID'].colorCode.max().numpy()) +1\n",
    "num_article = np.int64(data_test[\"articleID\"].node_id.max().numpy()) +1\n",
    "num_customer= np.int64(data_test[\"customerID\"].node_id.max().numpy()) +1\n",
    "num_state= np.int64(data_test[\"customerID\"].state.max().numpy()) +1\n",
    "num_salutation= np.int64(data_test[\"customerID\"].salutation.max().numpy()) +1"
   ]
  },
  {
   "cell_type": "code",
   "execution_count": 165,
   "metadata": {},
   "outputs": [
    {
     "name": "stdout",
     "output_type": "stream",
     "text": [
      "Model(\n",
      "  (order_lin): Linear(in_features=4, out_features=12, bias=True)\n",
      "  (article_lin): Linear(in_features=1, out_features=12, bias=True)\n",
      "  (articleID_emb): Embedding(3012, 12)\n",
      "  (customerID_emb): Embedding(59754, 12)\n",
      "  (customer_lin): Linear(in_features=1, out_features=12, bias=True)\n",
      "  (productGroup_emb): Embedding(165, 12)\n",
      "  (sizeCode_emb): Embedding(122, 12)\n",
      "  (colorCode_emb): Embedding(88, 12)\n",
      "  (state_emb): Embedding(16, 12)\n",
      "  (salutation_emb): Embedding(5, 12)\n",
      "  (gnn_article_order): GENConv(12, 12, aggr=softmax)\n",
      "  (gnn_customer_order): SAGEConv(12, 12, aggr=mean)\n",
      "  (gnn_order_customer): SAGEConv(12, 12, aggr=mean)\n",
      "  (gnn_order_article): SAGEConv(12, 12, aggr=mean)\n",
      "  (order_article_lin): Linear(in_features=1, out_features=12, bias=True)\n",
      "  (decoder): EdgeDecoder(\n",
      "    (lin1): Linear(36, 24, bias=True)\n",
      "    (lin2): Linear(24, 1, bias=True)\n",
      "  )\n",
      ")\n"
     ]
    }
   ],
   "source": [
    "from torch import Tensor\n",
    "\n",
    "from torch_geometric.nn import GATConv,GATv2Conv,GENConv,GraphConv\n",
    "from torch_geometric.utils import to_undirected\n",
    "device = torch.device('cuda' if torch.cuda.is_available() else 'cpu')\n",
    "#device = 'cpu'\n",
    "class EdgeDecoder(torch.nn.Module):\n",
    "    def __init__(self, hidden_channels):\n",
    "        super().__init__()\n",
    "        self.lin1 = Linear(3 * hidden_channels, 2*hidden_channels)\n",
    "        self.lin2 = Linear(2*hidden_channels, 1)\n",
    "\n",
    "    def forward(self,  cus_order, article,edge_label_index,edge_attr):\n",
    "        row, col = edge_label_index\n",
    "       \n",
    "        #z = torch.cat([order[col], article[row],edge_attr,cus_order[col]], dim=-1)\n",
    "        z = torch.cat([ article[row],edge_attr,cus_order[col]], dim=-1)\n",
    "        #z = torch.cat([edge_attr, edge_attr,edge_attr], dim=-1)\n",
    "        z = self.lin1(z).relu()\n",
    "        z = self.lin2(z)\n",
    "        return z.view(-1)     \n",
    "    \n",
    "   \n",
    "# Our final classifier applies the dot-product between source and destination\n",
    "# node embeddings to derive edge-level predictions:\n",
    "class Classifier(torch.nn.Module):\n",
    "    def forward(self, x_order: Tensor, x_article: Tensor, edge_label_index: Tensor) -> Tensor:\n",
    "        # Convert node embeddings to edge-level representations:\n",
    "        edge_feat_order = x_order[edge_label_index[1]]\n",
    "        edge_feat_article = x_article[edge_label_index[0]]\n",
    "\n",
    "        # Apply dot-product to get a prediction per supervision edge:\n",
    "        return (edge_feat_order * edge_feat_article).sum(dim=-1)\n",
    "\n",
    "\n",
    "class Model(torch.nn.Module):\n",
    "    def __init__(self, hidden_channels):\n",
    "        super().__init__()\n",
    "        # Since the dataset does not come with rich features, we also learn two\n",
    "        # embedding matrices for users and movies:\n",
    "        self.order_lin = torch.nn.Linear(4, hidden_channels)\n",
    "        self.article_lin = torch.nn.Linear(1, hidden_channels)\n",
    "        #self.orderID_emb = torch.nn.Embedding(data[\"orderID\"].num_nodes, hidden_channels)\n",
    "        self.articleID_emb = torch.nn.Embedding(num_article, hidden_channels)\n",
    "        self.customerID_emb = torch.nn.Embedding(num_customer, hidden_channels)\n",
    "        self.customer_lin = torch.nn.Linear(1, hidden_channels)\n",
    "        self.productGroup_emb = torch.nn.Embedding(num_productgroup, hidden_channels)        \n",
    "        self.sizeCode_emb = torch.nn.Embedding(num_size, hidden_channels)\n",
    "        self.colorCode_emb = torch.nn.Embedding(num_color, hidden_channels)\n",
    "        self.state_emb = torch.nn.Embedding(num_state, hidden_channels)\n",
    "        self.salutation_emb = torch.nn.Embedding(num_salutation, hidden_channels)\n",
    "        \n",
    "        # Instantiate homogeneous GNN:\n",
    "        #self.gnn_article_order = GATConv(hidden_channels, hidden_channels,add_self_loops= False,head=2)\n",
    "        self.gnn_article_order = GENConv(hidden_channels, hidden_channels,bias = True,learn_t=True,learn_p=True)\n",
    "        #self.gnn_article_order = NNConv(hidden_channels, hidden_channels, nn = torch.nn.Sequential(torch.nn.Linear(hidden_channels, hidden_channels), torch.nn.ReLU()), aggr='add')\n",
    "        #self.gnn_customer_order = SAGEConv(hidden_channels, hidden_channels)\n",
    "        self.gnn_customer_order = SAGEConv(hidden_channels, hidden_channels)\n",
    "        self.gnn_order_customer = SAGEConv(hidden_channels, hidden_channels)\n",
    "        self.gnn_order_article = SAGEConv(hidden_channels, hidden_channels)\n",
    "           \n",
    "        \n",
    "        self.order_article_lin =  torch.nn.Linear(1, hidden_channels)       \n",
    "\n",
    "        \n",
    "        self.decoder = EdgeDecoder(hidden_channels)\n",
    "\n",
    "    def forward(self, data: HeteroData) -> Tensor:\n",
    "        x_dict = {\n",
    "          \"customerID\": self.customerID_emb(data[\"customerID\"].node_id) + self.state_emb(data[\"customerID\"].state)+ self.salutation_emb(data[\"customerID\"].salutation),\n",
    "          \"orderID\": self.order_lin(data[\"orderID\"].x) ,\n",
    "          \"articleID\": self.productGroup_emb(data[\"articleID\"].productGroup) + self.article_lin(data[\"articleID\"].x)+ self.articleID_emb(data[\"articleID\"].node_id),\n",
    "        } \n",
    "\n",
    "        # `x_dict` holds feature matrices of all node types\n",
    "        # `edge_index_dict` holds all edge indices of all edge types        \n",
    "        \n",
    "        order_article_attr = self.sizeCode_emb(data['articleID','in', 'orderID'].sizeCode) + self.colorCode_emb(data['articleID','in', 'orderID'].colorCode) +  self.order_article_lin(data[\"articleID\", \"in\", \"orderID\"].edge_attr)\n",
    "                     \n",
    "        order = self.gnn_article_order((x_dict['articleID'],x_dict[\"orderID\"]), data[\"articleID\", \"in\", \"orderID\"].edge_index,order_article_attr)\n",
    "        #customer = self.gnn_order_customer((order,x_dict['customerID']), data[\"orderID\", \"rev_make\", \"customerID\"].edge_index)\n",
    "        cus_order = self.gnn_customer_order((x_dict['customerID'],order), data[\"customerID\", \"make\", \"orderID\"].edge_index)\n",
    "        \n",
    "        \n",
    "        \n",
    "        pred = self.decoder(\n",
    "            \n",
    "            cus_order,\n",
    "            x_dict['articleID'],            \n",
    "            data[\"articleID\", \"in\", \"orderID\"].edge_index,\n",
    "            order_article_attr,\n",
    "        )\n",
    "\n",
    "        return pred\n",
    "\n",
    "        \n",
    "model = Model(hidden_channels=12).to(device)\n",
    "\n",
    "print(model)"
   ]
  },
  {
   "cell_type": "code",
   "execution_count": 166,
   "metadata": {},
   "outputs": [],
   "source": [
    "@torch.no_grad()\n",
    "def init_params():\n",
    "    # Initialize lazy parameters via forwarding a single batch to the model:\n",
    "    batch = next(iter(loader))\n",
    "    \n",
    "    batch = batch.to(device)\n",
    "    model(batch)\n",
    "    \n",
    "def train(loader):\n",
    "    model.train()\n",
    "    loss_fun = torch.nn.BCEWithLogitsLoss()\n",
    "    total_examples = total_loss = 0\n",
    "    for batch in loader:\n",
    "        optimizer.zero_grad()\n",
    "        \n",
    "        batch = batch.to(device)        \n",
    "        pred = model(batch)\n",
    "        y =batch['articleID', 'in', 'orderID'].edge_label\n",
    "        \n",
    "        loss = loss_fun(pred, y)\n",
    "        #loss = torch.sum(loss * mask)/mask.sum()\n",
    "        loss.backward()\n",
    "        optimizer.step()        \n",
    "        \n",
    "        total_loss += float(loss) * pred.numel()\n",
    "        total_examples += pred.numel()\n",
    "\n",
    "    return total_loss / total_examples"
   ]
  },
  {
   "cell_type": "code",
   "execution_count": 167,
   "metadata": {},
   "outputs": [],
   "source": [
    "from sklearn.metrics import roc_auc_score\n",
    "@torch.no_grad()\n",
    "\n",
    "def test(batch):\n",
    "    model.eval()\n",
    "\n",
    "    total_examples = total_loss = 0\n",
    "           \n",
    "    batch = batch.to(device)        \n",
    "    pred = model(batch)\n",
    "    y =batch['articleID', 'in', 'orderID'].edge_label\n",
    "    mask = batch['articleID', 'in', 'orderID'].mask\n",
    "    loss = F.binary_cross_entropy_with_logits(pred[mask], y[mask])\n",
    "    total_loss += float(loss) * pred[mask].numel()\n",
    "    total_examples += pred[mask].numel()\n",
    "    auc = roc_auc_score(y[mask].cpu().numpy(), pred[mask].cpu().numpy())\n",
    "    return auc #total_loss / total_examples"
   ]
  },
  {
   "cell_type": "code",
   "execution_count": 169,
   "metadata": {},
   "outputs": [
    {
     "name": "stdout",
     "output_type": "stream",
     "text": [
      "Epoch: 01, Loss: 0.5250, Val: 0.7105\n",
      "Epoch: 02, Loss: 0.5199, Val: 0.7115\n",
      "Epoch: 03, Loss: 0.5160, Val: 0.7123\n",
      "Epoch: 04, Loss: 0.5119, Val: 0.7131\n",
      "Epoch: 05, Loss: 0.5087, Val: 0.7133\n",
      "Epoch: 06, Loss: 0.5051, Val: 0.7132\n",
      "Epoch: 07, Loss: 0.5012, Val: 0.7131\n",
      "Epoch: 08, Loss: 0.4981, Val: 0.7127\n",
      "Epoch: 09, Loss: 0.4941, Val: 0.7125\n",
      "Epoch: 10, Loss: 0.4906, Val: 0.7125\n",
      "Epoch: 11, Loss: 0.4875, Val: 0.7120\n",
      "Epoch: 12, Loss: 0.4833, Val: 0.7112\n",
      "Epoch: 13, Loss: 0.4801, Val: 0.7108\n",
      "Epoch: 14, Loss: 0.4768, Val: 0.7092\n"
     ]
    }
   ],
   "source": [
    "init_params()  # Initialize parameters.\n",
    "optimizer = torch.optim.Adam(model.parameters(), lr=0.001)\n",
    "\n",
    "for epoch in range(1, 15):\n",
    "    loss = train(loader)\n",
    "    val_acc = test(data_test)\n",
    "    \n",
    "    print(f'Epoch: {epoch:02d}, Loss: {loss:.4f}, Val: {val_acc:.4f}')"
   ]
  },
  {
   "cell_type": "code",
   "execution_count": 170,
   "metadata": {},
   "outputs": [
    {
     "name": "stdout",
     "output_type": "stream",
     "text": [
      "\n",
      "test AUC: 0.7092,test accurace: 0.6517,test precision: 0.6567,test f1_score: 0.6476,test recall: 0.6387,\n"
     ]
    }
   ],
   "source": [
    "from sklearn.metrics import roc_auc_score, accuracy_score, f1_score, precision_score, recall_score, confusion_matrix,roc_curve\n",
    "preds = model(data_test.to(device))\n",
    "pred = preds.cpu().detach().numpy()\n",
    "ground_truth = data_test['articleID', 'in', 'orderID'].edge_label.cpu().numpy()\n",
    "mask = data_test['articleID', 'in', 'orderID'].mask.cpu().numpy()\n",
    "ground_truth = ground_truth[mask]\n",
    "pred = pred[mask]\n",
    "pred = 1/(1+np.exp(-pred))\n",
    "auc = roc_auc_score(ground_truth, pred)\n",
    "acc = accuracy_score(ground_truth,pred>0.5)\n",
    "f1= f1_score(ground_truth,pred>0.5)\n",
    "precision = precision_score(ground_truth,pred>0.5)\n",
    "recall = recall_score(ground_truth,pred>0.5)\n",
    "\n",
    "print()\n",
    "print(f\"test AUC: {auc:.4f},test accurace: {acc:.4f},test precision: {precision:.4f},test f1_score: {f1:.4f},test recall: {recall:.4f},\")"
   ]
  },
  {
   "cell_type": "code",
   "execution_count": 139,
   "metadata": {},
   "outputs": [
    {
     "data": {
      "text/plain": [
       "array([[5296, 3231],\n",
       "       [3015, 5543]], dtype=int64)"
      ]
     },
     "execution_count": 139,
     "metadata": {},
     "output_type": "execute_result"
    }
   ],
   "source": [
    "confusion_matrix(ground_truth,pred>0.5)"
   ]
  },
  {
   "cell_type": "code",
   "execution_count": 206,
   "metadata": {},
   "outputs": [
    {
     "data": {
      "image/png": "[encoded data removed]",
      "text/plain": [
       "<Figure size 576x576 with 1 Axes>"
      ]
     },
     "metadata": {
      "needs_background": "light"
     },
     "output_type": "display_data"
    }
   ],
   "source": [
    "from sklearn import metrics\n",
    "import matplotlib.pyplot as plt \n",
    "fpr, tpr, threshold = roc_curve(ground_truth, pred)\n",
    "roc_auc = metrics.auc(fpr, tpr)\n",
    "plt.figure(figsize=(8, 8))\n",
    "plt.title('Test ROC')\n",
    "plt.plot(fpr, tpr, 'b', label = 'Test AUC = %0.4f' % roc_auc)\n",
    "plt.ylim(0,1)\n",
    "plt.xlim(0,1)\n",
    "plt.legend(loc='best')\n",
    "plt.title('ROC')\n",
    "plt.ylabel('True Positive Rate')\n",
    "plt.xlabel('False Positive Rate')\n",
    "plt.plot([0,1],[0,1],'r--')\n",
    "plt.show()"
   ]
  }
 ],
 "metadata": {
  "kernelspec": {
   "display_name": "pytorch",
   "language": "python",
   "name": "python3"
  },
  "language_info": {
   "codemirror_mode": {
    "name": "ipython",
    "version": 3
   },
   "file_extension": ".py",
   "mimetype": "text/x-python",
   "name": "python",
   "nbconvert_exporter": "python",
   "pygments_lexer": "ipython3",
   "version": "3.7.11"
  },
  "vscode": {
   "interpreter": {
    "hash": "ff6d4ce17eceee6fd1b58d61a6b43b34ae60da1a017957f957ae9fdd770bd0de"
   }
  }
 },
 "nbformat": 4,
 "nbformat_minor": 4
}
